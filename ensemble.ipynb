{
 "cells": [
  {
   "cell_type": "code",
   "execution_count": 2,
   "metadata": {},
   "outputs": [],
   "source": [
    "import pandas as pd\n",
    "from sklearn.model_selection import train_test_split\n",
    "from sklearn.preprocessing import StandardScaler\n",
    "from sklearn.ensemble import VotingClassifier, BaggingClassifier, GradientBoostingClassifier\n",
    "from sklearn.tree import DecisionTreeClassifier\n",
    "from sklearn.linear_model import LogisticRegression\n",
    "from sklearn.svm import SVC\n",
    "from sklearn.metrics import accuracy_score\n",
    "from sklearn.datasets import load_iris"
   ]
  },
  {
   "cell_type": "code",
   "execution_count": 3,
   "metadata": {},
   "outputs": [],
   "source": [
    "def load_wine_quality():\n",
    "    wine_data = pd.read_csv('winequality-white.csv')\n",
    "    X = wine_data.drop(\"quality\", axis=1)\n",
    "    y = wine_data[\"quality\"]\n",
    "    return X, y\n",
    "\n",
    "def load_iris_data():\n",
    "    iris = load_iris()\n",
    "    X = iris.data\n",
    "    y = iris.target\n",
    "    return X, y"
   ]
  },
  {
   "cell_type": "code",
   "execution_count": 4,
   "metadata": {},
   "outputs": [],
   "source": [
    "def train_and_evaluate(X, y, dataset_name):\n",
    "    X_train, X_test, y_train, y_test = train_test_split(X, y, test_size=0.3, random_state=42)\n",
    "    \n",
    "    scaler = StandardScaler()\n",
    "    X_train = scaler.fit_transform(X_train)\n",
    "    X_test = scaler.transform(X_test)\n",
    "    \n",
    "    clf1 = LogisticRegression(max_iter=200)\n",
    "    clf2 = DecisionTreeClassifier()\n",
    "    clf3 = SVC()\n",
    "    \n",
    "    voting_clf = VotingClassifier(estimators=[('Logistic_Regression', clf1), ('Decision_Tree', clf2), ('SVM', clf3)], voting='hard')\n",
    "    \n",
    "    bagging_clf = BaggingClassifier(estimator=DecisionTreeClassifier(), n_estimators=100, random_state=42)\n",
    "    \n",
    "    gb_clf = GradientBoostingClassifier(n_estimators=100, random_state=42)\n",
    "    \n",
    "    classifiers = {\n",
    "        'Voting Classifier': voting_clf,\n",
    "        'Bagging Classifier': bagging_clf,\n",
    "        'Gradient Boosting Classifier': gb_clf\n",
    "    }\n",
    "    \n",
    "    print(f\"\\nResults for {dataset_name}:\")\n",
    "    for clf_name, clf in classifiers.items():\n",
    "        clf.fit(X_train, y_train)\n",
    "        y_pred = clf.predict(X_test)\n",
    "        accuracy = accuracy_score(y_test, y_pred)\n",
    "        print(f\"{clf_name}: Accuracy = {accuracy:.4f}\")"
   ]
  },
  {
   "cell_type": "code",
   "execution_count": 5,
   "metadata": {},
   "outputs": [
    {
     "name": "stdout",
     "output_type": "stream",
     "text": [
      "\n",
      "Results for Wine Quality Dataset:\n",
      "Voting Classifier: Accuracy = 0.5769\n",
      "Bagging Classifier: Accuracy = 0.6816\n",
      "Gradient Boosting Classifier: Accuracy = 0.5850\n"
     ]
    }
   ],
   "source": [
    "X_wine, y_wine = load_wine_quality()\n",
    "train_and_evaluate(X_wine, y_wine, \"Wine Quality Dataset\")"
   ]
  },
  {
   "cell_type": "code",
   "execution_count": 6,
   "metadata": {},
   "outputs": [
    {
     "name": "stdout",
     "output_type": "stream",
     "text": [
      "\n",
      "Results for Iris Dataset:\n",
      "Voting Classifier: Accuracy = 1.0000\n",
      "Bagging Classifier: Accuracy = 1.0000\n",
      "Gradient Boosting Classifier: Accuracy = 1.0000\n"
     ]
    }
   ],
   "source": [
    "X_iris, y_iris = load_iris_data()\n",
    "train_and_evaluate(X_iris, y_iris, \"Iris Dataset\")"
   ]
  }
 ],
 "metadata": {
  "kernelspec": {
   "display_name": "base",
   "language": "python",
   "name": "python3"
  },
  "language_info": {
   "codemirror_mode": {
    "name": "ipython",
    "version": 3
   },
   "file_extension": ".py",
   "mimetype": "text/x-python",
   "name": "python",
   "nbconvert_exporter": "python",
   "pygments_lexer": "ipython3",
   "version": "3.11.7"
  }
 },
 "nbformat": 4,
 "nbformat_minor": 2
}
